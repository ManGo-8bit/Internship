{
 "cells": [
  {
   "cell_type": "code",
   "execution_count": 1,
   "id": "60261d4f",
   "metadata": {
    "scrolled": true
   },
   "outputs": [
    {
     "name": "stdout",
     "output_type": "stream",
     "text": [
      "Original Text: Python Exercises, PHP exercises.\n",
      "Modified Text: Python:Exercises::PHP:exercises:\n"
     ]
    }
   ],
   "source": [
    "# Question 1\n",
    "\n",
    "import re\n",
    "\n",
    "sample_text = 'Python Exercises, PHP exercises.'\n",
    "\n",
    "pattern = r'[ ,.]'\n",
    "result = re.sub(pattern, ':', sample_text)\n",
    "print(\"Original Text:\", sample_text)\n",
    "print(\"Modified Text:\", result)"
   ]
  },
  {
   "cell_type": "code",
   "execution_count": 3,
   "id": "3d1bd5ce",
   "metadata": {},
   "outputs": [
    {
     "name": "stdout",
     "output_type": "stream",
     "text": [
      "Words starting with 'a' or 'e': ['also', 'ensure', 'eGovernment', 'eLearning', 'eHealth', 'and', 'eBusiness']\n"
     ]
    }
   ],
   "source": [
    "# Question 2\n",
    "\n",
    "import re\n",
    "\n",
    "input_string = \"It also seeks to ensure the widespread use of the Internet through eGovernment, eLearning, eHealth and eBusiness initiatives\" \n",
    "pattern = r'\\b[aeAE]\\w*\\b'\n",
    "matches = re.findall(pattern, input_string)\n",
    "\n",
    "if matches:\n",
    "    print(\"Words starting with 'a' or 'e':\", matches)\n",
    "else:\n",
    "    print(\"No matching words found in the text.\")"
   ]
  },
  {
   "cell_type": "code",
   "execution_count": 5,
   "id": "1c924d6d",
   "metadata": {},
   "outputs": [
    {
     "name": "stdout",
     "output_type": "stream",
     "text": [
      "Words with at least 4 characters: ['Hello', 'name', 'Pradumn', 'tiwari']\n"
     ]
    }
   ],
   "source": [
    "# Question 3\n",
    "\n",
    "import re\n",
    "\n",
    "def find_words_with_length(text):\n",
    "    pattern = re.compile(r'\\b\\w{4,}\\b')\n",
    "    matches = pattern.findall(text)\n",
    "\n",
    "    return matches\n",
    "\n",
    "sample_text = \"Hello my name is Pradumn tiwari\"\n",
    "result = find_words_with_length(sample_text)\n",
    "print(\"Words with at least 4 characters:\", result)"
   ]
  },
  {
   "cell_type": "code",
   "execution_count": 6,
   "id": "898d2a91",
   "metadata": {},
   "outputs": [
    {
     "name": "stdout",
     "output_type": "stream",
     "text": [
      "Words of lengths 3, 4, or 5 characters: ['Hello', 'name']\n"
     ]
    }
   ],
   "source": [
    "# Question 4\n",
    "import re\n",
    "\n",
    "def find_words_of_lengths(text):\n",
    "    pattern = re.compile(r'\\b\\w{3,5}\\b')\n",
    "    matches = pattern.findall(text)\n",
    "    return matches\n",
    "# Test the function with a sample text\n",
    "sample_text = \"Hello! my name is Pradumn tiwari\"\n",
    "result = find_words_of_lengths(sample_text)\n",
    "print(\"Words of lengths 3, 4, or 5 characters:\", result)"
   ]
  },
  {
   "cell_type": "code",
   "execution_count": 10,
   "id": "d2de6173",
   "metadata": {},
   "outputs": [
    {
     "name": "stdout",
     "output_type": "stream",
     "text": [
      "example \n",
      "hr@fliprobo \n",
      "github \n",
      "Hello \n",
      "Data \n"
     ]
    }
   ],
   "source": [
    "# Question 5\n",
    "import re\n",
    "\n",
    "def remove_parentheses(strings):\n",
    "    pattern = re.compile(r'\\([^)]*\\)')\n",
    "    result = []\n",
    "    for string in strings:\n",
    "        cleaned_string = pattern.sub('', string)\n",
    "        result.append(cleaned_string)\n",
    "    return result\n",
    "string_list = [\"example (.com)\", \"hr@fliprobo (.com)\", \"github (.com)\", \"Hello (Data Science World)\", \"Data (Scientist)\"]\n",
    "result = remove_parentheses(string_list)\n",
    "for item in result:\n",
    "    print(item)"
   ]
  },
  {
   "cell_type": "code",
   "execution_count": 12,
   "id": "5aca35ad",
   "metadata": {},
   "outputs": [
    {
     "name": "stdout",
     "output_type": "stream",
     "text": [
      "[\"example \", \"hr@fliprobo \", \"github \", \"Hello \", \"Data \"]\n"
     ]
    }
   ],
   "source": [
    "# Question 6\n",
    "import re\n",
    "def remove_parentheses(text):\n",
    "    return re.sub(r'\\([^)]*\\)', '', text)\n",
    "with open('/home/mango/Desktop/test/Untitled Document 1', 'r') as file:\n",
    "    lines = file.readlines()\n",
    "cleaned_lines = [remove_parentheses(line) for line in lines]\n",
    "for line in cleaned_lines:\n",
    "    print(line.strip())"
   ]
  },
  {
   "cell_type": "code",
   "execution_count": 13,
   "id": "224d460b",
   "metadata": {},
   "outputs": [
    {
     "name": "stdout",
     "output_type": "stream",
     "text": [
      "['Importance', 'Of', 'Regular', 'Expressions', 'In', 'Python']\n"
     ]
    }
   ],
   "source": [
    "# Question 7\n",
    "import re\n",
    "sample_text = \"ImportanceOfRegularExpressionsInPython\"\n",
    "uppercase_words = re.findall(r'[A-Z][a-z]*', sample_text)\n",
    "print(uppercase_words)"
   ]
  },
  {
   "cell_type": "code",
   "execution_count": 14,
   "id": "c8f0f727",
   "metadata": {},
   "outputs": [
    {
     "name": "stdout",
     "output_type": "stream",
     "text": [
      "RegularExpression1 IsAn2 ImportantTopic3 InPython\n"
     ]
    }
   ],
   "source": [
    "# Question 8\n",
    "\n",
    "import re\n",
    "\n",
    "def insert_spaces_between_numbers(text):\n",
    "    result = re.sub(r'([0-9])([A-Za-z])', r'\\1 \\2', text)\n",
    "    return result\n",
    "sample_text = \"RegularExpression1IsAn2ImportantTopic3InPython\"\n",
    "result = insert_spaces_between_numbers(sample_text)\n",
    "print(result)"
   ]
  },
  {
   "cell_type": "code",
   "execution_count": 15,
   "id": "5aed4aa4",
   "metadata": {},
   "outputs": [
    {
     "name": "stdout",
     "output_type": "stream",
     "text": [
      "RegularExpressio nIsA nImportantTopi cInPython\n"
     ]
    }
   ],
   "source": [
    "# Question 9\n",
    "import re\n",
    "def insert_spaces(text):\n",
    "    result = re.sub(r'(\\d)([A-Z])|([A-Z])([A-Z])|([A-Za-z])(\\d)', r'\\1\\3 \\2\\4\\5', text)\n",
    "    return result\n",
    "sample_text = \"RegularExpression1IsAn2ImportantTopic3InPython\"\n",
    "result = insert_spaces(sample_text)\n",
    "print(result)"
   ]
  },
  {
   "cell_type": "code",
   "execution_count": 17,
   "id": "969067aa",
   "metadata": {},
   "outputs": [
    {
     "name": "stdout",
     "output_type": "stream",
     "text": [
      "['xyz@domain.com', 'xyz.abc@sdomain.domain.com', 'hr@fliprobo.com']\n"
     ]
    }
   ],
   "source": [
    "# Question 10\n",
    "import re\n",
    "def extract_emails_from_text(text):\n",
    "    pattern = r'\\b[A-Za-z0-9._%+-]+@[A-Za-z0-9.-]+\\.[A-Z|a-z]{2,7}\\b'\n",
    "    emails = re.findall(pattern, text)\n",
    "    return emails\n",
    "with open('/home/mango/Desktop/test/Untitled Document 2','r') as file:\n",
    "    text = file.read()\n",
    "email_addresses = extract_emails_from_text(text)\n",
    "print(email_addresses)"
   ]
  },
  {
   "cell_type": "code",
   "execution_count": 18,
   "id": "f09fd83c",
   "metadata": {},
   "outputs": [
    {
     "name": "stdout",
     "output_type": "stream",
     "text": [
      "'Pradumn_Tiwari123' is a valid string.\n",
      "'Ankur_Tiwari' is a valid string.\n",
      "'Harsh_Tiwari$123' is not a valid string.\n"
     ]
    }
   ],
   "source": [
    "# Question 11\n",
    "import re\n",
    "\n",
    "def is_valid_string(input_string):\n",
    "    pattern = r'^[A-Za-z0-9_]+$'\n",
    "    if re.match(pattern, input_string):\n",
    "        return True\n",
    "    else:\n",
    "        return False\n",
    "sample_strings = [\"Pradumn_Tiwari123\", \"Ankur_Tiwari\", \"Harsh_Tiwari$123\"]\n",
    "\n",
    "for string in sample_strings:\n",
    "    if is_valid_string(string):\n",
    "        print(f\"'{string}' is a valid string.\")\n",
    "    else:\n",
    "        print(f\"'{string}' is not a valid string.\")"
   ]
  },
  {
   "cell_type": "code",
   "execution_count": 19,
   "id": "a53a5a7f",
   "metadata": {},
   "outputs": [
    {
     "name": "stdout",
     "output_type": "stream",
     "text": [
      "'123ABC' starts with 123.\n",
      "'456XYZ' does not start with 123.\n",
      "'XYZ789' does not start with 123.\n"
     ]
    }
   ],
   "source": [
    "# Question 12\n",
    "import re\n",
    "\n",
    "def starts_with_number(input_string, number):\n",
    "    pattern = r'^' + re.escape(str(number))\n",
    "    if re.match(pattern, input_string):\n",
    "        return True\n",
    "    else:\n",
    "        return False\n",
    "sample_strings = [\"123ABC\", \"456XYZ\", \"XYZ789\"]\n",
    "specific_number = 123\n",
    "for string in sample_strings:\n",
    "    if starts_with_number(string, specific_number):\n",
    "        print(f\"'{string}' starts with {specific_number}.\")\n",
    "    else:\n",
    "        print(f\"'{string}' does not start with {specific_number}.\")"
   ]
  },
  {
   "cell_type": "code",
   "execution_count": 21,
   "id": "63431eaf",
   "metadata": {},
   "outputs": [
    {
     "name": "stdout",
     "output_type": "stream",
     "text": [
      "Original IP address: 192.001.005.01\n",
      "Modified IP address: 192.1.5.1\n"
     ]
    }
   ],
   "source": [
    "# Question 13\n",
    "import re\n",
    "\n",
    "def remove_leading_zeros(ip_address):\n",
    "    pattern = r'\\b0+(\\d+)'\n",
    "    modified_address = re.sub(pattern, r'\\1', ip_address)\n",
    "    return modified_address\n",
    "ip_address = \"192.001.005.01\"\n",
    "modified_ip = remove_leading_zeros(ip_address)\n",
    "print(\"Original IP address:\", ip_address)\n",
    "print(\"Modified IP address:\", modified_ip)"
   ]
  },
  {
   "cell_type": "code",
   "execution_count": 30,
   "id": "91e9711a",
   "metadata": {},
   "outputs": [
    {
     "name": "stdout",
     "output_type": "stream",
     "text": [
      "August 15th 1947\n"
     ]
    }
   ],
   "source": [
    "# Question 14\n",
    "import re\n",
    "with open('/home/mango/Desktop/test/Untitled Document 4', 'r') as file:\n",
    "    text = file.read()\n",
    "pattern = r'(\\b(?:January|February|March|April|May|June|July|August|September|October|November|December)\\s+\\d{1,2}(?:st|nd|rd|th)?\\s+\\d{4}\\b)'\n",
    "match = re.search(pattern, text)\n",
    "if match:\n",
    "    matched_date = match.group(1)\n",
    "    print(matched_date)\n",
    "else:\n",
    "    print(\"Date not found in the text.\")"
   ]
  },
  {
   "cell_type": "code",
   "execution_count": 36,
   "id": "f52f4145",
   "metadata": {},
   "outputs": [
    {
     "name": "stdout",
     "output_type": "stream",
     "text": [
      "'fox' \n",
      "'dog' \n"
     ]
    }
   ],
   "source": [
    "# Question 15\n",
    "import re\n",
    "sample_text = 'The quick brown fox jumps over the lazy dog.'\n",
    "searched_words = ['fox', 'dog', 'horse']\n",
    "def search_words_with_regex(text, words):\n",
    "    found_words = []\n",
    "    for word in words:\n",
    "        pattern = re.escape(word) \n",
    "        if re.search(pattern, text):\n",
    "            found_words.append(word)\n",
    "    return found_words\n",
    "found_words = search_words_with_regex(sample_text, searched_words)\n",
    "for word in found_words:\n",
    "    print(f\"'{word}' \")"
   ]
  },
  {
   "cell_type": "code",
   "execution_count": 38,
   "id": "9818f619",
   "metadata": {},
   "outputs": [
    {
     "name": "stdout",
     "output_type": "stream",
     "text": [
      "'fox'\n"
     ]
    }
   ],
   "source": [
    "# Question 16\n",
    "import re\n",
    "sample_text = 'The quick brown fox jumps over the lazy dog.'\n",
    "searched_word = 'fox'\n",
    "def search_word_and_location(text, word):\n",
    "    pattern = re.escape(word)  \n",
    "    match = re.search(pattern, text)\n",
    "    if match:\n",
    "        start = match.start()  \n",
    "        end = match.end()    \n",
    "        return start, end\n",
    "    else:\n",
    "        return None\n",
    "location = search_word_and_location(sample_text, searched_word)\n",
    "if location:\n",
    "    start, end = location\n",
    "    print(f\"'{searched_word}'\")\n",
    "else:\n",
    "    print(f\"'{searched_word}' not found in the text.\")"
   ]
  },
  {
   "cell_type": "code",
   "execution_count": 39,
   "id": "649a3e8c",
   "metadata": {},
   "outputs": [
    {
     "name": "stdout",
     "output_type": "stream",
     "text": [
      "'exercises'\n",
      "'exercises'\n",
      "'exercises'\n"
     ]
    }
   ],
   "source": [
    "# Question 17\n",
    "import re\n",
    "sample_text = 'Python exercises, PHP exercises, C# exercises'\n",
    "substring = 'exercises'\n",
    "pattern = re.escape(substring)\n",
    "matches = list(re.finditer(pattern, sample_text))\n",
    "if matches:\n",
    "    for match in matches:\n",
    "        start = match.start()\n",
    "        end = match.end()\n",
    "        print(f\"'{substring}'\")\n",
    "else:\n",
    "    print(f\"'{substring}' not found in the text.\")"
   ]
  },
  {
   "cell_type": "code",
   "execution_count": 40,
   "id": "5946c7ad",
   "metadata": {},
   "outputs": [
    {
     "name": "stdout",
     "output_type": "stream",
     "text": [
      "Occurrence 1: 'exercises' found at position 7-16.\n",
      "Occurrence 2: 'exercises' found at position 22-31.\n",
      "Occurrence 3: 'exercises' found at position 36-45.\n"
     ]
    }
   ],
   "source": [
    "# Question 18\n",
    "import re\n",
    "sample_text = 'Python exercises, PHP exercises, C# exercises'\n",
    "substring = 'exercises'\n",
    "pattern = re.escape(substring)\n",
    "matches = list(re.finditer(pattern, sample_text))\n",
    "if matches:\n",
    "    for i, match in enumerate(matches, start=1):\n",
    "        start = match.start()\n",
    "        end = match.end()\n",
    "        print(f\"Occurrence {i}: '{substring}' found at position {start}-{end}.\")\n",
    "else:\n",
    "    print(f\"'{substring}' not found in the text.\")"
   ]
  },
  {
   "cell_type": "code",
   "execution_count": 41,
   "id": "89e8f8c0",
   "metadata": {},
   "outputs": [
    {
     "name": "stdout",
     "output_type": "stream",
     "text": [
      "Input date: 2023-10-05\n",
      "Converted date: 05-10-2023\n"
     ]
    }
   ],
   "source": [
    "# Question 19\n",
    "import re\n",
    "input_date = \"2023-10-05\"\n",
    "pattern = r'(\\d{4})-(\\d{2})-(\\d{2})'\n",
    "output_date = re.sub(pattern, r'\\3-\\2-\\1', input_date)\n",
    "print(\"Input date:\", input_date)\n",
    "print(\"Converted date:\", output_date)"
   ]
  },
  {
   "cell_type": "code",
   "execution_count": 42,
   "id": "9daccbb0",
   "metadata": {},
   "outputs": [
    {
     "name": "stdout",
     "output_type": "stream",
     "text": [
      "Decimal numbers with precision of 1 or 2: ['01.12', '145.8', '3.01', '27.25', '0.25']\n"
     ]
    }
   ],
   "source": [
    "# Question 20\n",
    "import re\n",
    "def find_decimal_numbers(text):\n",
    "    pattern = r'\\b\\d+\\.\\d{1,2}\\b'\n",
    "    regex = re.compile(pattern)\n",
    "    decimal_numbers = regex.findall(text)\n",
    "    return decimal_numbers\n",
    "sample_text = \"01.12 0132.123 2.31875 145.8 3.01 27.25 0.25\"\n",
    "result = find_decimal_numbers(sample_text)\n",
    "print(\"Decimal numbers with precision of 1 or 2:\", result)"
   ]
  },
  {
   "cell_type": "code",
   "execution_count": 43,
   "id": "9734c891",
   "metadata": {},
   "outputs": [
    {
     "name": "stdout",
     "output_type": "stream",
     "text": [
      "Number: 01.12, Position: 0-5\n",
      "Number: 0132.123, Position: 6-14\n",
      "Number: 2.31875, Position: 15-22\n",
      "Number: 145.8, Position: 23-28\n",
      "Number: 3.01, Position: 29-33\n",
      "Number: 27.25, Position: 34-39\n",
      "Number: 0.25, Position: 40-44\n"
     ]
    }
   ],
   "source": [
    "# Question 21\n",
    "import re\n",
    "def separate_numbers_with_positions(text):\n",
    "    pattern = r'\\d+(\\.\\d+)?'\n",
    "    matches = re.finditer(pattern, text)\n",
    "    for match in matches:\n",
    "        number = match.group()\n",
    "        start = match.start()\n",
    "        end = match.end()\n",
    "        print(f\"Number: {number}, Position: {start}-{end}\")\n",
    "sample_text = \"01.12 0132.123 2.31875 145.8 3.01 27.25 0.25\"\n",
    "separate_numbers_with_positions(sample_text)"
   ]
  },
  {
   "cell_type": "code",
   "execution_count": 45,
   "id": "b59dc827",
   "metadata": {},
   "outputs": [
    {
     "name": "stdout",
     "output_type": "stream",
     "text": [
      "Maximum numeric value: 950\n"
     ]
    }
   ],
   "source": [
    "# Question 22\n",
    "import re\n",
    "def extract_max_numeric_value(text):\n",
    "    pattern = r'\\b\\d+\\b'\n",
    "    numeric_values = re.findall(pattern, text)\n",
    "    max_numeric_value = max(int(num) for num in numeric_values)\n",
    "    return max_numeric_value\n",
    "sample_text = \"My marks in each semester are: 947, 896, 926, 524, 734, 950, 642\"\n",
    "max_value = extract_max_numeric_value(sample_text)\n",
    "print(\"Maximum numeric value:\", max_value)"
   ]
  },
  {
   "cell_type": "code",
   "execution_count": 46,
   "id": "ffc1785a",
   "metadata": {},
   "outputs": [
    {
     "name": "stdout",
     "output_type": "stream",
     "text": [
      "Formatted Text: Regular Expression Is An Important Topic In Python\n"
     ]
    }
   ],
   "source": [
    "# Question 23\n",
    "import re\n",
    "def insert_spaces_between_capital_words(text):\n",
    "    pattern = r'([A-Z][a-z]*)'\n",
    "    formatted_text = re.sub(pattern, r' \\1', text)\n",
    "    formatted_text = formatted_text.strip()\n",
    "    return formatted_text\n",
    "sample_text = \"RegularExpressionIsAnImportantTopicInPython\"\n",
    "formatted_text = insert_spaces_between_capital_words(sample_text)\n",
    "print(\"Formatted Text:\", formatted_text)"
   ]
  },
  {
   "cell_type": "code",
   "execution_count": 47,
   "id": "90f70cd6",
   "metadata": {},
   "outputs": [
    {
     "name": "stdout",
     "output_type": "stream",
     "text": [
      "['Hello', 'Python']\n"
     ]
    }
   ],
   "source": [
    "# Question 24\n",
    "import re\n",
    "text = \"Hello and Python.\"\n",
    "pattern = r'[A-Z][a-z]+'\n",
    "matches = re.findall(pattern, text)\n",
    "print(matches)"
   ]
  },
  {
   "cell_type": "code",
   "execution_count": 48,
   "id": "fd4645ab",
   "metadata": {},
   "outputs": [
    {
     "name": "stdout",
     "output_type": "stream",
     "text": [
      "Cleaned Text: Hello hello world\n"
     ]
    }
   ],
   "source": [
    "# Question 25\n",
    "import re\n",
    "def remove_continuous_duplicates(text):\n",
    "    pattern = r'\\b(\\w+)(?:\\s+\\1)+\\b'\n",
    "    cleaned_text = re.sub(pattern, r'\\1', text)\n",
    "    return cleaned_text\n",
    "sample_text = \"Hello hello world world\"\n",
    "cleaned_text = remove_continuous_duplicates(sample_text)\n",
    "print(\"Cleaned Text:\", cleaned_text)"
   ]
  },
  {
   "cell_type": "code",
   "execution_count": 50,
   "id": "d4e0dcda",
   "metadata": {},
   "outputs": [
    {
     "name": "stdout",
     "output_type": "stream",
     "text": [
      "'Pradumn123' ends with alphanumeric character: True\n",
      "'world!' ends with alphanumeric character: False\n",
      "'9211420840' ends with alphanumeric character: True\n"
     ]
    }
   ],
   "source": [
    "# Question 26\n",
    "import re\n",
    "def is_string_ending_with_alphanumeric(input_string):\n",
    "    pattern = r'^.*[a-zA-Z0-9]$'  \n",
    "    if re.match(pattern, input_string):\n",
    "        return True\n",
    "    else:\n",
    "        return False\n",
    "test_string1 = \"Pradumn123\"\n",
    "test_string2 = \"world!\"\n",
    "test_string3 = \"9211420840\"\n",
    "\n",
    "result1 = is_string_ending_with_alphanumeric(test_string1)\n",
    "result2 = is_string_ending_with_alphanumeric(test_string2)\n",
    "result3 = is_string_ending_with_alphanumeric(test_string3)\n",
    "\n",
    "print(f\"'{test_string1}' ends with alphanumeric character: {result1}\")\n",
    "print(f\"'{test_string2}' ends with alphanumeric character: {result2}\")\n",
    "print(f\"'{test_string3}' ends with alphanumeric character: {result3}\")"
   ]
  },
  {
   "cell_type": "code",
   "execution_count": 51,
   "id": "dc9ad213",
   "metadata": {},
   "outputs": [
    {
     "name": "stdout",
     "output_type": "stream",
     "text": [
      "Extracted Hashtags: ['#Doltiwal', '#xyzabc', '#Demonetization']\n"
     ]
    }
   ],
   "source": [
    "# Question 27\n",
    "import re\n",
    "def extract_hashtags(text):\n",
    "    pattern = r'#\\w+'\n",
    "    hashtags = re.findall(pattern, text)\n",
    "    return hashtags\n",
    "sample_text = \"\"\"RT @kapil_kausik: #Doltiwal I mean #xyzabc is \"hurt\" by #Demonetization as the same has rendered USELESS <ed><U+00A0><U+00BD><ed><U+00B1><U+0089> \"acquired funds\" No wo\"\"\"\n",
    "hashtags = extract_hashtags(sample_text)\n",
    "print(\"Extracted Hashtags:\", hashtags)"
   ]
  },
  {
   "cell_type": "code",
   "execution_count": 52,
   "id": "9ad1d8c7",
   "metadata": {},
   "outputs": [
    {
     "name": "stdout",
     "output_type": "stream",
     "text": [
      "Cleaned Text: @Jags123456 Bharat band on 28??<ed><ed>Those who  are protesting #demonetization  are all different party leaders\n"
     ]
    }
   ],
   "source": [
    "# Question 28\n",
    "import re\n",
    "def remove_unicode_symbols(text):\n",
    "    pattern = r'<U\\+[A-Fa-f0-9]+>'\n",
    "    cleaned_text = re.sub(pattern, '', text) \n",
    "    return cleaned_text\n",
    "sample_text = \"@Jags123456 Bharat band on 28??<ed><U+00A0><U+00BD><ed><U+00B8><U+0082>Those who  are protesting #demonetization  are all different party leaders\"\n",
    "cleaned_text = remove_unicode_symbols(sample_text)\n",
    "print(\"Cleaned Text:\", cleaned_text)"
   ]
  },
  {
   "cell_type": "code",
   "execution_count": 53,
   "id": "b2784b0c",
   "metadata": {},
   "outputs": [
    {
     "name": "stdout",
     "output_type": "stream",
     "text": [
      "Extracted Dates: ['12-09-1992', '15-12-1999']\n"
     ]
    }
   ],
   "source": [
    "# Question 29\n",
    "import re\n",
    "\n",
    "def extract_dates_from_text(file_path):\n",
    "    with open('/home/mango/Desktop/test/Untitled Document 5', 'r') as file:\n",
    "        text = file.read()\n",
    "    pattern = r'\\b\\d{2}-\\d{2}-\\d{4}\\b'\n",
    "    dates = re.findall(pattern, text)\n",
    "    return dates\n",
    "file_path = 'sample_text.txt'\n",
    "extracted_dates = extract_dates_from_text(file_path)\n",
    "print(\"Extracted Dates:\", extracted_dates)"
   ]
  },
  {
   "cell_type": "code",
   "execution_count": 54,
   "id": "957d4f70",
   "metadata": {},
   "outputs": [
    {
     "name": "stdout",
     "output_type": "stream",
     "text": [
      "Cleaned Text:  following example creates  ArrayList  a capacity   elements. 4 elements   added   ArrayList   ArrayList  trimmed accordingly.\n"
     ]
    }
   ],
   "source": [
    "# Question 30\n",
    "import re\n",
    "def remove_words_with_length_between_2_and_4(text):\n",
    "    pattern = r'\\b\\w{2,4}\\b'\n",
    "    regex = re.compile(pattern)\n",
    "    cleaned_text = regex.sub('', text)\n",
    "    return cleaned_text\n",
    "sample_text = \"The following example creates an ArrayList with a capacity of 50 elements. 4 elements are then added to the ArrayList and the ArrayList is trimmed accordingly.\"\n",
    "cleaned_text = remove_words_with_length_between_2_and_4(sample_text)\n",
    "print(\"Cleaned Text:\", cleaned_text)"
   ]
  }
 ],
 "metadata": {
  "kernelspec": {
   "display_name": "Python 3 (ipykernel)",
   "language": "python",
   "name": "python3"
  },
  "language_info": {
   "codemirror_mode": {
    "name": "ipython",
    "version": 3
   },
   "file_extension": ".py",
   "mimetype": "text/x-python",
   "name": "python",
   "nbconvert_exporter": "python",
   "pygments_lexer": "ipython3",
   "version": "3.11.4"
  }
 },
 "nbformat": 4,
 "nbformat_minor": 5
}
